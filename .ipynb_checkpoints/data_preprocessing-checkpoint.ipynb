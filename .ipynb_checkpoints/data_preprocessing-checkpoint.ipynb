{
 "cells": [
  {
   "cell_type": "code",
   "execution_count": 1,
   "metadata": {},
   "outputs": [],
   "source": [
    "import pandas as pd"
   ]
  },
  {
   "cell_type": "code",
   "execution_count": 87,
   "metadata": {},
   "outputs": [],
   "source": [
    "geojson = pd.read_json(\"country_data.json\")"
   ]
  },
  {
   "cell_type": "code",
   "execution_count": 124,
   "metadata": {},
   "outputs": [],
   "source": [
    "country_names = geojson.features.apply(pd.Series).properties.apply(pd.Series).name\n",
    "\n",
    "country_iso = geojson.features.apply(pd.Series).id"
   ]
  },
  {
   "cell_type": "code",
   "execution_count": 90,
   "metadata": {
    "jupyter": {
     "source_hidden": true
    }
   },
   "outputs": [],
   "source": [
    "cases_deaths = pd.read_csv(\"johns_hopkins_csse/johns-hopkins-covid-19-daily-dashboard-cases-over-time.csv\")\n",
    "\n",
    "cases_deaths = cases_deaths[['iso3', 'country_region', 'last_update', 'confirmed', 'deaths']]\n",
    "\n",
    "cases_deaths = cases_deaths.groupby(by = ['iso3', 'country_region', 'last_update']).sum().reset_index()\n",
    "\n",
    "cases_deaths = cases_deaths[cases_deaths.iso3.apply(lambda x: x in country_iso.values)]\n",
    "\n",
    "cases_deaths = cases_deaths.rename(columns = {'country_region' : 'name', 'last_update' : 'date', 'confirmed' : 'cases'})"
   ]
  },
  {
   "cell_type": "code",
   "execution_count": 113,
   "metadata": {
    "jupyter": {
     "source_hidden": true
    }
   },
   "outputs": [],
   "source": [
    "cases_deaths.to_csv(\"clean_data/john_hopkins_clean.csv\")"
   ]
  },
  {
   "cell_type": "code",
   "execution_count": 114,
   "metadata": {},
   "outputs": [],
   "source": [
    "country_cases_deaths_tests = pd.read_csv(\"our_world_in_data/coronavirus-disease-covid-19-statistics-and-research.csv\")\n",
    "\n",
    "country_cases_deaths_tests = country_cases_deaths_tests[['iso_code', 'location', 'total_cases', 'total_deaths', 'total_tests', 'total_cases_per_million', 'total_deaths_per_million', 'total_tests_per_thousand']]\n",
    "\n",
    "country_cases_deaths_tests = country_cases_deaths_tests.rename(columns = {'iso_code': 'id', 'location' : 'name', 'total_cases' : 'cases', 'total_deaths' : 'deaths', 'total_cases_per_million' : 'cases_per_million', 'total_deaths_per_million' : 'deaths_per_million', 'total_tests' : 'tests', 'total_tests_per_thousand' : 'tests_per_thousand'})\n",
    "\n",
    "country_cases_deaths_tests = country_cases_deaths_tests[country_cases_deaths_tests.id.apply(lambda x: x in country_iso.values)]"
   ]
  },
  {
   "cell_type": "code",
   "execution_count": 118,
   "metadata": {},
   "outputs": [],
   "source": [
    "country_cases_deaths_tests.to_csv(\"clean_data/cases_deaths_tests_bycountry_overtime.csv\")"
   ]
  },
  {
   "cell_type": "code",
   "execution_count": null,
   "metadata": {},
   "outputs": [],
   "source": []
  }
 ],
 "metadata": {
  "kernelspec": {
   "display_name": "Python [conda env:ada] *",
   "language": "python",
   "name": "conda-env-ada-py"
  },
  "language_info": {
   "codemirror_mode": {
    "name": "ipython",
    "version": 3
   },
   "file_extension": ".py",
   "mimetype": "text/x-python",
   "name": "python",
   "nbconvert_exporter": "python",
   "pygments_lexer": "ipython3",
   "version": "3.7.6"
  }
 },
 "nbformat": 4,
 "nbformat_minor": 4
}
