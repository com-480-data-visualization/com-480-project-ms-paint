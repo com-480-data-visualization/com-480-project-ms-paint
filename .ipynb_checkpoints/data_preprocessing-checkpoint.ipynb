{
 "cells": [
  {
   "cell_type": "code",
   "execution_count": 1,
   "metadata": {},
   "outputs": [],
   "source": [
    "import pandas as pd"
   ]
  },
  {
   "cell_type": "code",
   "execution_count": 2,
   "metadata": {},
   "outputs": [],
   "source": [
    "geojson = pd.read_json(\"data/country_data.json\")"
   ]
  },
  {
   "cell_type": "code",
   "execution_count": 3,
   "metadata": {},
   "outputs": [],
   "source": [
    "country_names = geojson.features.apply(pd.Series).properties.apply(pd.Series).name\n",
    "\n",
    "country_iso = geojson.features.apply(pd.Series).id"
   ]
  },
  {
   "cell_type": "code",
   "execution_count": 55,
   "metadata": {},
   "outputs": [],
   "source": [
    "country_cases_deaths_tests = pd.read_csv(\"data/source/coronavirus-disease-covid-19-statistics-and-research.csv\")\n"
   ]
  },
  {
   "cell_type": "code",
   "execution_count": 67,
   "metadata": {},
   "outputs": [],
   "source": [
    "country_cases_deaths_tests = pd.read_csv(\"data/source/coronavirus-disease-covid-19-statistics-and-research.csv\")\n",
    "\n",
    "country_cases_deaths_tests = country_cases_deaths_tests[['iso_code', 'location', 'date', 'total_cases', 'total_deaths', 'total_tests', 'total_cases_per_million', 'total_deaths_per_million', 'total_tests_per_thousand']]\n",
    "\n",
    "country_cases_deaths_tests = country_cases_deaths_tests.rename(columns = {'iso_code': 'id', 'location' : 'name', 'total_cases' : 'cases', 'total_deaths' : 'deaths', 'total_cases_per_million' : 'cases_per_million', 'total_deaths_per_million' : 'deaths_per_million', 'total_tests' : 'tests', 'total_tests_per_thousand' : 'tests_per_thousand'})\n",
    "\n",
    "country_cases_deaths_tests = country_cases_deaths_tests[country_cases_deaths_tests.id.apply(lambda x: x in country_iso.values)]\n",
    "\n",
    "country_cases_deaths_tests = country_cases_deaths_tests.groupby(['id', 'name']).apply(lambda group: group.interpolate())"
   ]
  },
  {
   "cell_type": "code",
   "execution_count": 70,
   "metadata": {},
   "outputs": [],
   "source": [
    "measures = pd.read_csv(\"data/source/acaps-covid-19-government-measures-dataset.csv\")\n",
    "\n",
    "measures = measures[['iso', 'country', 'category', 'measure', 'date_implemented', 'non_compliance']]\n",
    "\n",
    "measures = measures.rename(columns = {'iso' : 'id', 'country' : 'name', 'date_implemented' : 'date'})\n",
    "\n",
    "measures = measures[measures.id.apply(lambda x: x in country_iso.values)]"
   ]
  },
  {
   "cell_type": "code",
   "execution_count": 71,
   "metadata": {},
   "outputs": [],
   "source": [
    "mobility = pd.read_csv(\"data/source/regional-mobility.csv\")\n",
    "\n",
    "mobility = mobility.drop(['region'], axis = 1).rename(columns = {'country' : 'name'})\n",
    "\n",
    "mobility = country_cases_deaths_tests[['id', 'name']].drop_duplicates().join(mobility.set_index('name'), on = 'name', how = 'inner')"
   ]
  },
  {
   "cell_type": "code",
   "execution_count": 72,
   "metadata": {},
   "outputs": [],
   "source": [
    "country_cases_deaths_tests = country_cases_deaths_tests.set_index('id')\n",
    "\n",
    "measures = measures.set_index('id')\n",
    "\n",
    "mobility = mobility.set_index('id')"
   ]
  },
  {
   "cell_type": "code",
   "execution_count": 73,
   "metadata": {},
   "outputs": [],
   "source": [
    "country_cases_deaths_tests.to_csv(\"data/clean/cases_deaths_tests_bycountry_overtime.csv\")\n",
    "\n",
    "measures.to_csv(\"data/clean/measures_bycountry_overtime.csv\")\n",
    "\n",
    "mobility.to_csv(\"data/clean/mobility_bycountry_overtime.csv\")"
   ]
  },
  {
   "cell_type": "code",
   "execution_count": null,
   "metadata": {},
   "outputs": [],
   "source": []
  }
 ],
 "metadata": {
  "kernelspec": {
   "display_name": "Python [conda env:ada] *",
   "language": "python",
   "name": "conda-env-ada-py"
  },
  "language_info": {
   "codemirror_mode": {
    "name": "ipython",
    "version": 3
   },
   "file_extension": ".py",
   "mimetype": "text/x-python",
   "name": "python",
   "nbconvert_exporter": "python",
   "pygments_lexer": "ipython3",
   "version": "3.7.6"
  }
 },
 "nbformat": 4,
 "nbformat_minor": 4
}
